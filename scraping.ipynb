{
 "cells": [
  {
   "cell_type": "code",
   "execution_count": 1,
   "metadata": {},
   "outputs": [],
   "source": [
    "import urllib.request"
   ]
  },
  {
   "cell_type": "code",
   "execution_count": 28,
   "metadata": {},
   "outputs": [],
   "source": [
    "with urllib.request.urlopen('http://gdados.com/paginas/plb/sobre/sobre.xhtml') as url:\n",
    "    page = url.read()"
   ]
  },
  {
   "cell_type": "code",
   "execution_count": 29,
   "metadata": {},
   "outputs": [
    {
     "name": "stdout",
     "output_type": "stream",
     "text": [
      "b'<?xml version=\\'1.0\\' encoding=\\'UTF-8\\' ?>\\n<!DOCTYPE html>\\n<html xmlns=\"http://www.w3.org/1999/xhtml\"><head id=\"j_idt2\"><link type=\"text/css\" rel=\"stylesheet\" href=\"/javax.faces.resource/theme.css.xhtml?ln=primefaces-bootstrap\" /><link type=\"text/css\" rel=\"stylesheet\" href=\"/javax.faces.resource/css/default/core.css.xhtml?ln=bsf\" /><link type=\"text/css\" rel=\"stylesheet\" href=\"//maxcdn.bootstrapcdn.com/font-awesome/4.7.0/css/font-awesome.min.css\" /><link type=\"text/css\" rel=\"stylesheet\" href=\"/javax.faces.resource/css/dropdown-submenu.css.xhtml?ln=bsf\" /><link type=\"text/css\" rel=\"stylesheet\" href=\"/javax.faces.resource/css/bsf.css.xhtml?ln=bsf\" /><!--[if lt IE 9]><script src=\"/javax.faces.resource/js/html5shiv.js.xhtml?ln=bsf\"></script><script src=\"/javax.faces.resource/js/respond.js.xhtml?ln=bsf\"></script><![endif]--><script type=\"text/javascript\" src=\"/javax.faces.resource/jq/jquery.js.xhtml?ln=bsf\"></script><script type=\"text/javascript\" src=\"/javax.faces.resource/jsf.js.xhtml?ln=javax.faces\"></script><script type=\"text/javascript\" src=\"/javax.faces.resource/js/tooltip.js.xhtml?ln=bsf\"></script><script type=\"text/javascript\" src=\"/javax.faces.resource/js/bsf.js.xhtml?ln=bsf\"></script><script type=\"text/javascript\">if(window.PrimeFaces){PrimeFaces.settings.locale=\\'pt_BR\\';}</script><meta name=\"viewport\" content=\"width=device-width, initial-scale=1.0, user-scalable=no\"/>\\n        <title>gdados - transformando dados em solu\\xc3\\xa7\\xc3\\xb5es</title>\\n        <meta name=\"author\" content=\"The Author\" />\\n        <meta charset=\"UTF-8\" />\\n        <meta http-equiv=\"Content-Type\" content=\"text/html;charset=ISO-8859-1\" />\\n        <meta name=\"google-site-verification\" content=\"Y0WCOxT6_XheY64iba-6H4IYRXQqw86tTITuFS1DCVg\" />\\n        <link rel=\"icon\" type=\"image/png\" href=\"/resources/img/database-512.png\" />\\n        <link type=\"text/css\" href=\"/resources/css/font-awesome.css\" rel=\"stylesheet\" />\\n        <link type=\"text/css\" href=\"/resources/css/font-awesome.min.css\" rel=\"stylesheet\" />\\n        <link type=\"text/css\" href=\"/resources/css/estilo-img.css\" rel=\"stylesheet\" /></head><body style=\"padding-top: 50px; padding-bottom: 20px;\"><div id=\"j_idt5\" class=\"navbar navbar-inverse navbar-fixed-top\" style=\"background: blue;border: 0px;\" role=\"navigation\"><div class=\"container\"><div class=\"navbar-header\"><button type=\"button\" class=\"navbar-toggle\" data-toggle=\"collapse\" data-target=\"#j_idt5_inner\"><span class=\"sr-only\">Toggle navigation</span><span class=\"icon-bar\"></span><span class=\"icon-bar\"></span><span class=\"icon-bar\"></span></button></div><div id=\"j_idt5_inner\" class=\"collapse navbar-collapse navbar-ex1-collapse\">\\n<form id=\"j_idt6\" name=\"j_idt6\" method=\"post\" action=\"/paginas/plb/sobre/sobre.xhtml\" enctype=\"application/x-www-form-urlencoded\">\\n<input type=\"hidden\" name=\"j_idt6\" value=\"j_idt6\" />\\n<ul id=\"j_idt6:j_idt7\" class=\"nav navbar-nav \"><li id=\"j_idt6:j_idt8\" style=\"cursor:pointer;color: white;\"><a style=\"color: white;\" class=\"commandLink \" href=\"/Home.xhtml\" role=\"menuitem\" tabindex=\"-1\"><span><i class=\"fa fa-database\"></i></span> GDADOS</a></li><li id=\"j_idt6:j_idt9\" style=\"cursor:pointer;color: white;\"><a style=\"color: white;\" class=\"commandLink \" href=\"/paginas/plb/sobre/sobre.xhtml\" role=\"menuitem\" tabindex=\"-1\">sobre</a></li><li id=\"j_idt6:j_idt10\" style=\"cursor:pointer;color: white;\"><a style=\"color: white;\" class=\"commandLink \" href=\"/paginas/plb/servico/servico.xhtml\" role=\"menuitem\" tabindex=\"-1\">solu\\xc3\\xa7\\xc3\\xb5es</a></li></ul><input type=\"hidden\" name=\"javax.faces.ViewState\" id=\"j_id1:javax.faces.ViewState:0\" value=\"9168630541682808319:5923820801749177029\" autocomplete=\"off\" />\\n</form>\\n<form id=\"j_idt43\" name=\"j_idt43\" method=\"post\" action=\"/paginas/plb/sobre/sobre.xhtml\" class=\"navbar-form navbar-right\" enctype=\"application/x-www-form-urlencoded\">\\n<input type=\"hidden\" name=\"j_idt43\" value=\"j_idt43\" />\\n\\n                <div class=\"form-group\"><a id=\"j_idt43:j_idt45\" onclick=\"BsF.ajax.callAjax(this, event,\\'\\',\\'j_idt43:j_idt45\\',null,null,null,null,null);;\" class=\"commandLink btn btn-success btn-block\" href=\"/paginas/plb/participante/cadastro.xhtml\" role=\"button\" tabindex=\"-1\">Cadastre-se <span><i class=\"fa fa-envelope-o\"></i></span></a></span>\\n                </div> \\n                <div class=\"form-group\"><button type=\"submit\" id=\"j_idt43:j_idt47\" name=\"j_idt43:j_idt47\" class=\"btn btn-danger\">Login <span><i class=\"fa fa-user\"></i></span></button>\\n                </div><input type=\"hidden\" name=\"javax.faces.ViewState\" id=\"j_id1:javax.faces.ViewState:1\" value=\"9168630541682808319:5923820801749177029\" autocomplete=\"off\" />\\n</form></div></div></div>\\n<form id=\"j_idt49\" name=\"j_idt49\" method=\"post\" action=\"/paginas/plb/sobre/sobre.xhtml\">\\n<input type=\"hidden\" name=\"j_idt49\" value=\"j_idt49\" />\\n<div id=\"j_idt49:j_idt50\" style=\"background: white;\" class=\"jumbotron\"><div id=\"j_idt49:j_idt51\" class=\"container\">\\n                    <h2>Sobre o projeto gdados</h2>\\n                    <p>\\n                        A GDADOS \\xc3\\xa9 um projeto relacionado a ci\\xc3\\xaancias de dados, com foco:\\n\\n                        I - promover an\\xc3\\xa1lise de dados e desenvolvimento de solu\\xc3\\xa7\\xc3\\xb5es em Big Data em \\xc3\\xb3rg\\xc3\\xa3os e entidades comercial e p\\xc3\\xbablica;\\n\\n                        II - franquear pesquisa e desenvolvimento em ci\\xc3\\xaancias de dados;\\n\\n                        III - fomentar pesquisa e o desenvolvimento de novas tecnologias destinadas a melhoria de resultado atrav\\xc3\\xa9s de dados legado;\\n\\n                        IV - fomentar pesquisada cient\\xc3\\xadfica de base emp\\xc3\\xadrica sobre a gest\\xc3\\xa3o p\\xc3\\xbablica;\\n\\n                        V - promover o desenvolvimento tecnol\\xc3\\xb3gico e a inova\\xc3\\xa7\\xc3\\xa3o nos setores p\\xc3\\xbablico e privado e fomentar novos neg\\xc3\\xb3cios;\\n\\n                        VI - promover o compartilhamento de recursos de tecnologia da informa\\xc3\\xa7\\xc3\\xa3o, de maneira a evitar a duplicidade de a\\xc3\\xa7\\xc3\\xb5es e o desperd\\xc3\\xadcio de recursos na dissemina\\xc3\\xa7\\xc3\\xa3o de dados e informa\\xc3\\xa7\\xc3\\xb5es; e\\n\\n                    </p>\\n\\n                    <p>\\n                        <b style=\"font-weight: bold;\">GDADOS</b>: Transformando dados em solu\\xc3\\xa7\\xc3\\xb5es\\n\\n                        <br />\\n\\n                        Setor principal do projeto: tecnologia aplicada\\n                        <br />\\n                        <strong>a) Qual o problema?</strong>\\n                        <br />\\n\\n                        Vivemos em um tempo onde informa\\xc3\\xa7\\xc3\\xb5es cruciais est\\xc3\\xa3o, escondida em uma quantidade cada vez maior de dados, tais informa\\xc3\\xa7\\xc3\\xb5es  podem ser a base para gera\\xc3\\xa7\\xc3\\xa3o de valor e inova\\xc3\\xa7\\xc3\\xa3o. A concretiza\\xc3\\xa7\\xc3\\xa3o desse potencial, no entanto, exige mais do que tecnologia.\\n                        A quantidade de dados produzida por atividades diversas como por exemplo a produ\\xc3\\xa7\\xc3\\xa3o industrial, as intera\\xc3\\xa7\\xc3\\xb5es em redes sociais, o monitoramento hospitalar e o controle de frotas de ve\\xc3\\xadculos, tem crescido de forma acelerada na \\xc3\\xbaltima d\\xc3\\xa9cada. Dados de 2012 indicam que um volume de 2.500 Terabytes de dados estava sendo gerado diariamente em todo o mundo, e a expectativa era de que esse valor duplicasse at\\xc3\\xa9 2016. Atualmente, a quantidade de dados trafegada a cada segundo na Internet \\xc3\\xa9 superior ao volume total de dados armazenados na rede no in\\xc3\\xadcio dos anos 1990 [1]. O Facebook, rede social l\\xc3\\xadder em n\\xc3\\xbamero de usu\\xc3\\xa1rios e tempo de engajamento di\\xc3\\xa1rio, tem 1,65 bilh\\xc3\\xa3o de usu\\xc3\\xa1rios ativos por m\\xc3\\xaas [2], ou seja, aproximadamente 22% da popula\\xc3\\xa7\\xc3\\xa3o mundial, que produz cerca de 4 bilh\\xc3\\xb5es de intera\\xc3\\xa7\\xc3\\xb5es di\\xc3\\xa1rias.\\n\\n                        <br />\\n\\n                        <strong>b) Qual a solu\\xc3\\xa7\\xc3\\xa3o?</strong>\\n\\n                        <br />\\n\\n                        Transformar dados em solu\\xc3\\xa7\\xc3\\xb5es:\\n                        A gera\\xc3\\xa7\\xc3\\xa3o de valor realmente acontece quando a identifica\\xc3\\xa7\\xc3\\xa3o de insights sobre os processos de neg\\xc3\\xb3cio de uma empresa d\\xc3\\xa1 suporte \\xc3\\xa0 avalia\\xc3\\xa7\\xc3\\xa3o cont\\xc3\\xadnua e \\xc3\\xa0 melhoria de seus produtos e servi\\xc3\\xa7os. \\n                        <br />\\n                        Impacto econ\\xc3\\xb4mico e/ou social:\\n                        Ao coletar em tempo real o comportamento dos usu\\xc3\\xa1rios ao interagir com seus servi\\xc3\\xa7os e automatizar etapas de an\\xc3\\xa1lise e gera\\xc3\\xa7\\xc3\\xa3o de insights, uma empresa pode reduzir o tempo at\\xc3\\xa9 que oportunidades de atua\\xc3\\xa7\\xc3\\xa3o sejam identificadas e a\\xc3\\xa7\\xc3\\xb5es relacionadas.\\n                        <br />\\n                        Breve hist\\xc3\\xb3rico do projeto:\\n                        A startup iniciou em uma conversa sobre informa\\xc3\\xa7\\xc3\\xb5es ocultas, Big Data, Ci\\xc3\\xaancia de dados e oportunidades de neg\\xc3\\xb3cios.\\n                        <br />\\n                        Est\\xc3\\xa1gio de desenvolvimento: MVP\\n                        <br />\\n                        Implementa\\xc3\\xa7\\xc3\\xa3o: Plataforma de Big Data\\n                        <br />\\n                        Cidade Atua\\xc3\\xa7\\xc3\\xa3o: Boa Vista - RR\\n                        <br />\\n                        <strong>c) Qual a proposta de valor ao cliente? </strong>\\n                        <br />\\n                        tomada de decis\\xc3\\xb5es, reduzir tempo, melhorar servi\\xc3\\xa7os, predi\\xc3\\xa7\\xc3\\xa3o, melhorar seus processos de trabalho, adquirir insights valiosos acerca das tend\\xc3\\xaancias de mercado, comportamento dos consumidores e suas expectativas.\\n                        <br />\\n                        <strong>d) Qual o mercado?</strong> \\n                        <br />\\n                        Big Data  - Ci\\xc3\\xaancia de dados aplicada a solu\\xc3\\xa7\\xc3\\xb5es atrav\\xc3\\xa9s de dados abertos.\\n                        <br />\\n                        <strong>e) Qual o P\\xc3\\xbablico-Alvo/clientes?</strong> \\n                        <br />\\n                        Entidade governamental, empresas privadas, startups.\\n                        <br />\\n                        <strong>f)  Quem forma a equipe? </strong>\\n                        <br />\\n                        F\\xc3\\xa1bio Resplandes  - co-fundador, Analista de dados e sistemas\\xe2\\x80\\xa6\\n                        Johnny Pereira - co-fundador, Analista de sistemas\\xe2\\x80\\xa6 Adriel Gomes - co-fundador, Analista de sistemas\\xe2\\x80\\xa6\\n                        <br />\\n\\n                        <strong>g) Qual o modelo de neg\\xc3\\xb3cios/forma de monetiza\\xc3\\xa7\\xc3\\xa3o da startup?</strong>\\n                        <br />\\n                        O modelo de neg\\xc3\\xb3cio gira em torno de presta\\xc3\\xa7\\xc3\\xa3o de Servi\\xc3\\xa7os de an\\xc3\\xa1lise de dados, minera\\xc3\\xa7\\xc3\\xa3o, recomenda\\xc3\\xa7\\xc3\\xa3o, classifica\\xc3\\xa7\\xc3\\xa3o e predi\\xc3\\xa7\\xc3\\xa3o para neg\\xc3\\xb3cios utilizando t\\xc3\\xa9cnicas avan\\xc3\\xa7adas de ci\\xc3\\xaancia de dados.\\n                        <br />\\n                        <strong>h) Por que sua startup deve ser selecionada?</strong>\\n                        <br />\\n                        Por que somos uma das poucas startups de tecnologia aplicada focada em transformar dados em solu\\xc3\\xa7\\xc3\\xb5es que qualquer mercado procura, para promover n\\xc3\\xa3o apenas o desenvolvimento econ\\xc3\\xb4mico local mas tamb\\xc3\\xa9m trazer solu\\xc3\\xa7\\xc3\\xb5es que qualquer neg\\xc3\\xb3cio pode se beneficiar.\\n\\n                    </p></div></div><input type=\"hidden\" name=\"javax.faces.ViewState\" id=\"j_id1:javax.faces.ViewState:2\" value=\"9168630541682808319:5923820801749177029\" autocomplete=\"off\" />\\n</form><div id=\"j_idt53\" class=\"container\">\\n            <hr />\\n            <footer>\\n                <div style=\"border: 0px solid gray;\">\\n                    <div align=\"left\" style=\"border: 0px solid red;width: 48%;float: left;\">\\n                        <p> \\xc2\\xa9 PROJETO GDADOS 2018</p>\\n                    </div>  \\n                    <div align=\"right\" style=\"border: 0px solid red;width: 48%;float: right;\">\\n                        Todos os direitos reservados a gdados.\\n                    </div>\\n                </div>\\n            </footer></div><script type=\"text/javascript\" src=\"/javax.faces.resource/js/collapse.js.xhtml?ln=bsf\"></script><script type=\"text/javascript\" src=\"/javax.faces.resource/js/dropdown.js.xhtml?ln=bsf\"></script></body>\\n</html>'\n"
     ]
    }
   ],
   "source": [
    "print(page)"
   ]
  },
  {
   "cell_type": "code",
   "execution_count": 30,
   "metadata": {},
   "outputs": [],
   "source": [
    "from bs4 import BeautifulSoup"
   ]
  },
  {
   "cell_type": "code",
   "execution_count": 31,
   "metadata": {},
   "outputs": [],
   "source": [
    "soup = BeautifulSoup(page,  'html.parser')"
   ]
  },
  {
   "cell_type": "code",
   "execution_count": 32,
   "metadata": {},
   "outputs": [
    {
     "data": {
      "text/plain": [
       "<title>gdados - transformando dados em soluções</title>"
      ]
     },
     "execution_count": 32,
     "metadata": {},
     "output_type": "execute_result"
    }
   ],
   "source": [
    "soup.title"
   ]
  },
  {
   "cell_type": "code",
   "execution_count": 39,
   "metadata": {},
   "outputs": [
    {
     "data": {
      "text/plain": [
       "'\\n                        A GDADOS é um projeto relacionado a ciências de dados, com foco:\\n\\n                        I - promover análise de dados e desenvolvimento de soluções em Big Data em órgãos e entidades comercial e pública;\\n\\n                        II - franquear pesquisa e desenvolvimento em ciências de dados;\\n\\n                        III - fomentar pesquisa e o desenvolvimento de novas tecnologias destinadas a melhoria de resultado através de dados legado;\\n\\n                        IV - fomentar pesquisada científica de base empírica sobre a gestão pública;\\n\\n                        V - promover o desenvolvimento tecnológico e a inovação nos setores público e privado e fomentar novos negócios;\\n\\n                        VI - promover o compartilhamento de recursos de tecnologia da informação, de maneira a evitar a duplicidade de ações e o desperdício de recursos na disseminação de dados e informações; e\\n\\n                    '"
      ]
     },
     "execution_count": 39,
     "metadata": {},
     "output_type": "execute_result"
    }
   ],
   "source": [
    "soup.p.string"
   ]
  },
  {
   "cell_type": "code",
   "execution_count": 34,
   "metadata": {},
   "outputs": [
    {
     "data": {
      "text/plain": [
       "'gdados - transformando dados em soluções'"
      ]
     },
     "execution_count": 34,
     "metadata": {},
     "output_type": "execute_result"
    }
   ],
   "source": [
    "soup.title.string"
   ]
  },
  {
   "cell_type": "code",
   "execution_count": 35,
   "metadata": {},
   "outputs": [
    {
     "data": {
      "text/plain": [
       "[<a class=\"commandLink \" href=\"/Home.xhtml\" role=\"menuitem\" style=\"color: white;\" tabindex=\"-1\"><span><i class=\"fa fa-database\"></i></span> GDADOS</a>,\n",
       " <a class=\"commandLink \" href=\"/paginas/plb/sobre/sobre.xhtml\" role=\"menuitem\" style=\"color: white;\" tabindex=\"-1\">sobre</a>,\n",
       " <a class=\"commandLink \" href=\"/paginas/plb/servico/servico.xhtml\" role=\"menuitem\" style=\"color: white;\" tabindex=\"-1\">soluções</a>,\n",
       " <a class=\"commandLink btn btn-success btn-block\" href=\"/paginas/plb/participante/cadastro.xhtml\" id=\"j_idt43:j_idt45\" onclick=\"BsF.ajax.callAjax(this, event,'','j_idt43:j_idt45',null,null,null,null,null);;\" role=\"button\" tabindex=\"-1\">Cadastre-se <span><i class=\"fa fa-envelope-o\"></i></span></a>]"
      ]
     },
     "execution_count": 35,
     "metadata": {},
     "output_type": "execute_result"
    }
   ],
   "source": [
    "soup.find_all('a')"
   ]
  },
  {
   "cell_type": "code",
   "execution_count": 36,
   "metadata": {},
   "outputs": [
    {
     "data": {
      "text/plain": [
       "<a class=\"commandLink \" href=\"/Home.xhtml\" role=\"menuitem\" style=\"color: white;\" tabindex=\"-1\"><span><i class=\"fa fa-database\"></i></span> GDADOS</a>"
      ]
     },
     "execution_count": 36,
     "metadata": {},
     "output_type": "execute_result"
    }
   ],
   "source": [
    "soup.a"
   ]
  },
  {
   "cell_type": "code",
   "execution_count": 37,
   "metadata": {},
   "outputs": [
    {
     "data": {
      "text/plain": [
       "[<p>\n",
       "                         A GDADOS é um projeto relacionado a ciências de dados, com foco:\n",
       " \n",
       "                         I - promover análise de dados e desenvolvimento de soluções em Big Data em órgãos e entidades comercial e pública;\n",
       " \n",
       "                         II - franquear pesquisa e desenvolvimento em ciências de dados;\n",
       " \n",
       "                         III - fomentar pesquisa e o desenvolvimento de novas tecnologias destinadas a melhoria de resultado através de dados legado;\n",
       " \n",
       "                         IV - fomentar pesquisada científica de base empírica sobre a gestão pública;\n",
       " \n",
       "                         V - promover o desenvolvimento tecnológico e a inovação nos setores público e privado e fomentar novos negócios;\n",
       " \n",
       "                         VI - promover o compartilhamento de recursos de tecnologia da informação, de maneira a evitar a duplicidade de ações e o desperdício de recursos na disseminação de dados e informações; e\n",
       " \n",
       "                     </p>, <p>\n",
       " <b style=\"font-weight: bold;\">GDADOS</b>: Transformando dados em soluções\n",
       " \n",
       "                         <br/>\n",
       " \n",
       "                         Setor principal do projeto: tecnologia aplicada\n",
       "                         <br/>\n",
       " <strong>a) Qual o problema?</strong>\n",
       " <br/>\n",
       " \n",
       "                         Vivemos em um tempo onde informações cruciais estão, escondida em uma quantidade cada vez maior de dados, tais informações  podem ser a base para geração de valor e inovação. A concretização desse potencial, no entanto, exige mais do que tecnologia.\n",
       "                         A quantidade de dados produzida por atividades diversas como por exemplo a produção industrial, as interações em redes sociais, o monitoramento hospitalar e o controle de frotas de veículos, tem crescido de forma acelerada na última década. Dados de 2012 indicam que um volume de 2.500 Terabytes de dados estava sendo gerado diariamente em todo o mundo, e a expectativa era de que esse valor duplicasse até 2016. Atualmente, a quantidade de dados trafegada a cada segundo na Internet é superior ao volume total de dados armazenados na rede no início dos anos 1990 [1]. O Facebook, rede social líder em número de usuários e tempo de engajamento diário, tem 1,65 bilhão de usuários ativos por mês [2], ou seja, aproximadamente 22% da população mundial, que produz cerca de 4 bilhões de interações diárias.\n",
       " \n",
       "                         <br/>\n",
       " <strong>b) Qual a solução?</strong>\n",
       " <br/>\n",
       " \n",
       "                         Transformar dados em soluções:\n",
       "                         A geração de valor realmente acontece quando a identificação de insights sobre os processos de negócio de uma empresa dá suporte à avaliação contínua e à melhoria de seus produtos e serviços. \n",
       "                         <br/>\n",
       "                         Impacto econômico e/ou social:\n",
       "                         Ao coletar em tempo real o comportamento dos usuários ao interagir com seus serviços e automatizar etapas de análise e geração de insights, uma empresa pode reduzir o tempo até que oportunidades de atuação sejam identificadas e ações relacionadas.\n",
       "                         <br/>\n",
       "                         Breve histórico do projeto:\n",
       "                         A startup iniciou em uma conversa sobre informações ocultas, Big Data, Ciência de dados e oportunidades de negócios.\n",
       "                         <br/>\n",
       "                         Estágio de desenvolvimento: MVP\n",
       "                         <br/>\n",
       "                         Implementação: Plataforma de Big Data\n",
       "                         <br/>\n",
       "                         Cidade Atuação: Boa Vista - RR\n",
       "                         <br/>\n",
       " <strong>c) Qual a proposta de valor ao cliente? </strong>\n",
       " <br/>\n",
       "                         tomada de decisões, reduzir tempo, melhorar serviços, predição, melhorar seus processos de trabalho, adquirir insights valiosos acerca das tendências de mercado, comportamento dos consumidores e suas expectativas.\n",
       "                         <br/>\n",
       " <strong>d) Qual o mercado?</strong>\n",
       " <br/>\n",
       "                         Big Data  - Ciência de dados aplicada a soluções através de dados abertos.\n",
       "                         <br/>\n",
       " <strong>e) Qual o Público-Alvo/clientes?</strong>\n",
       " <br/>\n",
       "                         Entidade governamental, empresas privadas, startups.\n",
       "                         <br/>\n",
       " <strong>f)  Quem forma a equipe? </strong>\n",
       " <br/>\n",
       "                         Fábio Resplandes  - co-fundador, Analista de dados e sistemas…\n",
       "                         Johnny Pereira - co-fundador, Analista de sistemas… Adriel Gomes - co-fundador, Analista de sistemas…\n",
       "                         <br/>\n",
       " <strong>g) Qual o modelo de negócios/forma de monetização da startup?</strong>\n",
       " <br/>\n",
       "                         O modelo de negócio gira em torno de prestação de Serviços de análise de dados, mineração, recomendação, classificação e predição para negócios utilizando técnicas avançadas de ciência de dados.\n",
       "                         <br/>\n",
       " <strong>h) Por que sua startup deve ser selecionada?</strong>\n",
       " <br/>\n",
       "                         Por que somos uma das poucas startups de tecnologia aplicada focada em transformar dados em soluções que qualquer mercado procura, para promover não apenas o desenvolvimento econômico local mas também trazer soluções que qualquer negócio pode se beneficiar.\n",
       " \n",
       "                     </p>, <p> © PROJETO GDADOS 2018</p>]"
      ]
     },
     "execution_count": 37,
     "metadata": {},
     "output_type": "execute_result"
    }
   ],
   "source": [
    "soup.find_all('p')"
   ]
  },
  {
   "cell_type": "code",
   "execution_count": null,
   "metadata": {},
   "outputs": [],
   "source": []
  }
 ],
 "metadata": {
  "kernelspec": {
   "display_name": "Python 3",
   "language": "python",
   "name": "python3"
  },
  "language_info": {
   "codemirror_mode": {
    "name": "ipython",
    "version": 3
   },
   "file_extension": ".py",
   "mimetype": "text/x-python",
   "name": "python",
   "nbconvert_exporter": "python",
   "pygments_lexer": "ipython3",
   "version": "3.5.2"
  }
 },
 "nbformat": 4,
 "nbformat_minor": 2
}
